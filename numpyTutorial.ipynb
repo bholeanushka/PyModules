{
 "cells": [
  {
   "cell_type": "code",
   "execution_count": 5,
   "id": "6b59eb30-c027-4188-a41e-66e1225696e0",
   "metadata": {},
   "outputs": [],
   "source": [
    "import numpy as np"
   ]
  },
  {
   "cell_type": "code",
   "execution_count": 6,
   "id": "4940b4be-efe0-46d0-aa7b-019e2dc52cb5",
   "metadata": {},
   "outputs": [
    {
     "name": "stdout",
     "output_type": "stream",
     "text": [
      "[1 2 3 4 5]\n",
      "Type : <class 'numpy.ndarray'>\n"
     ]
    }
   ],
   "source": [
    "arr=np.array([1,2,3,4,5])\n",
    "#or arr=np.array((1,2,3,4,5))\n",
    "print(arr)\n",
    "print(f'Type : {type(arr)}')"
   ]
  },
  {
   "cell_type": "markdown",
   "id": "b650a766-2872-4783-a1c9-527666d4adf8",
   "metadata": {},
   "source": [
    "Dimentions in arrays :"
   ]
  },
  {
   "cell_type": "code",
   "execution_count": 10,
   "id": "eeb39122-3642-4854-af31-03147d51f29c",
   "metadata": {},
   "outputs": [
    {
     "name": "stdout",
     "output_type": "stream",
     "text": [
      "[[1 2 3 4]\n",
      " [5 6 7 8]]\n",
      "Dimention : 2\n"
     ]
    }
   ],
   "source": [
    "arr=np.array([[1,2,3,4],[5,6,7,8]])\n",
    "print(arr)\n",
    "print(f'Dimention : {arr.ndim}')"
   ]
  },
  {
   "cell_type": "markdown",
   "id": "22e35488-245e-4be7-99d8-c3d0da5b082b",
   "metadata": {},
   "source": [
    "Accessing Elements : "
   ]
  },
  {
   "cell_type": "code",
   "execution_count": 6,
   "id": "c301c4ef-b17b-444c-acf5-4a23ff6c5c44",
   "metadata": {},
   "outputs": [
    {
     "name": "stdout",
     "output_type": "stream",
     "text": [
      "arr[1,2] : 7\n"
     ]
    }
   ],
   "source": [
    "arr=np.array([[1,2,3,4],[5,6,7,8]])\n",
    "print(f'arr[1,2] : {arr[1,2]}') #outputs : 7"
   ]
  },
  {
   "cell_type": "markdown",
   "id": "2b48f151-42fb-4a1f-b4d9-3df68dbea4b1",
   "metadata": {},
   "source": [
    "Slicing Array :"
   ]
  },
  {
   "cell_type": "code",
   "execution_count": 25,
   "id": "fb52fb2c-2a78-4a8e-a53d-25f255542af5",
   "metadata": {},
   "outputs": [
    {
     "name": "stdout",
     "output_type": "stream",
     "text": [
      "slice :[2 3 4]\n",
      "steps : [1 3 5]\n"
     ]
    }
   ],
   "source": [
    "arr=np.array([1,2,3,4,5])\n",
    "print(f\"slice :{arr[1:4]}\") #return an array from index 1 to 3\n",
    "#steps--\n",
    "print(f\"steps : {arr[::2]}\") #print array elements with a step of two elements "
   ]
  },
  {
   "cell_type": "code",
   "execution_count": 31,
   "id": "fb79b436-5889-4be4-b92b-d7d40a9798fd",
   "metadata": {},
   "outputs": [
    {
     "name": "stdout",
     "output_type": "stream",
     "text": [
      "2D array slice : [6 7]\n",
      "steps : [2 4]\n"
     ]
    }
   ],
   "source": [
    "arr=np.array([[1,2,3,4],[5,6,7,8]])\n",
    "print(f\"2D array slice : {arr[1,1:3]}\") #outputs : 6,7\n",
    "print(f\"steps : {arr[0,1::2]}\")"
   ]
  },
  {
   "cell_type": "markdown",
   "id": "b5605c9d-41d1-406f-b320-9c319d10c4a2",
   "metadata": {},
   "source": [
    "Checking datatype : "
   ]
  },
  {
   "cell_type": "code",
   "execution_count": 12,
   "id": "59841cb9-4e04-48c8-abb6-9fbf4d479e9e",
   "metadata": {},
   "outputs": [
    {
     "name": "stdout",
     "output_type": "stream",
     "text": [
      "Arr DataType : int64\n",
      "STRArr DataType : <U5\n"
     ]
    }
   ],
   "source": [
    "arr=np.array([[1,2,3,4],[5,6,7,8]])\n",
    "STRarr=np.array([['hi','hello'],['bye','cya']])\n",
    "print(f\"Arr DataType : {arr.dtype}\")\n",
    "print(f\"STRArr DataType : {STRarr.dtype}\")"
   ]
  },
  {
   "cell_type": "markdown",
   "id": "791b240e-3d5d-4929-96e3-f0679615853c",
   "metadata": {},
   "source": [
    "Creating array with defined datatype :"
   ]
  },
  {
   "cell_type": "code",
   "execution_count": 11,
   "id": "7ee63270-f186-4114-96a8-1b79d8e473db",
   "metadata": {},
   "outputs": [
    {
     "name": "stdout",
     "output_type": "stream",
     "text": [
      "[[b'1' b'2' b'3']\n",
      " [b'4' b'5' b'6']]\n",
      "Datatype : |S1\n"
     ]
    }
   ],
   "source": [
    "arr=np.array([[1,2,3],[4,5,6]],dtype='S')\n",
    "print(arr)\n",
    "print(f\"Datatype : {arr.dtype}\")"
   ]
  },
  {
   "cell_type": "markdown",
   "id": "a41ebbee-540a-4651-96c8-217ae3bb5181",
   "metadata": {},
   "source": [
    "Specifying Bytes : "
   ]
  },
  {
   "cell_type": "code",
   "execution_count": 14,
   "id": "66e9c88a-3415-4d81-8bfb-3794d454bba5",
   "metadata": {},
   "outputs": [
    {
     "name": "stdout",
     "output_type": "stream",
     "text": [
      "[[1 2 3]\n",
      " [4 5 6]]\n",
      "Datatype : int32\n"
     ]
    }
   ],
   "source": [
    "arr=np.array([[1,2,3],[4,5,6]],dtype='i4') #4 byte integer\n",
    "print(arr)\n",
    "print(f\"Datatype : {arr.dtype}\")"
   ]
  },
  {
   "cell_type": "markdown",
   "id": "a201eb21-870d-44f8-be57-6128c29d9a42",
   "metadata": {},
   "source": [
    "Shape of array : "
   ]
  },
  {
   "cell_type": "code",
   "execution_count": 19,
   "id": "170c4ea2-cf52-43bc-b444-ca925c6f187b",
   "metadata": {},
   "outputs": [
    {
     "name": "stdout",
     "output_type": "stream",
     "text": [
      "Shape : (2, 3)\n"
     ]
    }
   ],
   "source": [
    "#defines the elements in each dimention\n",
    "arr=np.array([[1,2,3],[4,5,6]])\n",
    "print(f'Shape : {arr.shape}')"
   ]
  },
  {
   "cell_type": "code",
   "execution_count": 25,
   "id": "06270aee-de95-458f-8b91-902b9daf4085",
   "metadata": {},
   "outputs": [
    {
     "name": "stdout",
     "output_type": "stream",
     "text": [
      "Shape : (3, 2, 3)\n"
     ]
    }
   ],
   "source": [
    "arr=np.array([[[1,2,3],[4,5,6]],[[10,20,30],[40,50,60]],[[11,21,31],[41,51,61]]])\n",
    "print(f'Shape : {arr.shape}') \n",
    "#3 -> elements in outer array\n",
    "#2 -> elements in 2nd array\n",
    "#3 -> elements in inner most array "
   ]
  },
  {
   "cell_type": "markdown",
   "id": "4ba3843e-7820-4b6f-8cde-c070e467e147",
   "metadata": {},
   "source": [
    "Joining Array : "
   ]
  },
  {
   "cell_type": "code",
   "execution_count": 30,
   "id": "a2a49f4b-87d7-40d9-9edd-04c11f3bb098",
   "metadata": {},
   "outputs": [
    {
     "name": "stdout",
     "output_type": "stream",
     "text": [
      "[1 2 3 4 5 6]\n"
     ]
    }
   ],
   "source": [
    "arr1=np.array([1,2,3])\n",
    "arr2=np.array([4,5,6])\n",
    "\n",
    "arr=np.concatenate((arr1,arr2))\n",
    "print(arr)"
   ]
  },
  {
   "cell_type": "code",
   "execution_count": 41,
   "id": "eb3cb22b-7215-4dac-96da-950f150551ea",
   "metadata": {},
   "outputs": [
    {
     "name": "stdout",
     "output_type": "stream",
     "text": [
      "Axis 1 : [[1 2 5 6]\n",
      " [3 4 7 8]]\n",
      "Axis 0 : [[1 2]\n",
      " [3 4]\n",
      " [5 6]\n",
      " [7 8]]\n"
     ]
    }
   ],
   "source": [
    "#joining on axis \n",
    "\n",
    "arr1=np.array([[1,2],[3,4]])\n",
    "arr2=np.array([[5,6],[7,8]])\n",
    "\n",
    "arr=np.concatenate((arr1,arr2),axis=1)\n",
    "print(f'Axis 1 : {arr}')\n",
    "\n",
    "arr=np.concatenate((arr1,arr2),axis=0)\n",
    "print(f'Axis 0 : {arr}')"
   ]
  },
  {
   "cell_type": "code",
   "execution_count": 49,
   "id": "cfe2df34-7d2e-4d52-ad21-4e516969873a",
   "metadata": {},
   "outputs": [
    {
     "name": "stdout",
     "output_type": "stream",
     "text": [
      "Axis 0 :\n",
      " [[[ 1  2]\n",
      "  [ 3  4]]\n",
      "\n",
      " [[11 12]\n",
      "  [13 14]]\n",
      "\n",
      " [[ 5  6]\n",
      "  [ 7  8]]\n",
      "\n",
      " [[15 16]\n",
      "  [17 18]]]\n",
      "\n",
      "Axis 1 :\n",
      " [[[ 1  2]\n",
      "  [ 3  4]\n",
      "  [ 5  6]\n",
      "  [ 7  8]]\n",
      "\n",
      " [[11 12]\n",
      "  [13 14]\n",
      "  [15 16]\n",
      "  [17 18]]]\n",
      "\n",
      "Axis 2 :\n",
      " [[[ 1  2  5  6]\n",
      "  [ 3  4  7  8]]\n",
      "\n",
      " [[11 12 15 16]\n",
      "  [13 14 17 18]]]\n"
     ]
    }
   ],
   "source": [
    "arr1=np.array([[[1,2],[3,4]],[[11,12],[13,14]]])\n",
    "arr2=np.array([[[5,6],[7,8]],[[15,16],[17,18]]])\n",
    "\n",
    "arr=np.concatenate((arr1,arr2),axis=0)\n",
    "print(f'Axis 0 :\\n {arr}')  #all 2d arrays enclosed in single bracket\n",
    "\n",
    "arr=np.concatenate((arr1,arr2),axis=1)\n",
    "print(f'\\nAxis 1 :\\n {arr}') #combine equal index elements into a single 2d array \n",
    "\n",
    "arr=np.concatenate((arr1,arr2),axis=2)\n",
    "print(f'\\nAxis 2 :\\n {arr}') #combine elements of inner most arrays with equal index "
   ]
  },
  {
   "cell_type": "markdown",
   "id": "b9ff7917-076e-4467-86ac-445c71ed9d9f",
   "metadata": {},
   "source": [
    "Splitting array  : "
   ]
  },
  {
   "cell_type": "code",
   "execution_count": 54,
   "id": "7d5253a8-2c71-483f-a599-a4b2a866bb6a",
   "metadata": {},
   "outputs": [
    {
     "name": "stdout",
     "output_type": "stream",
     "text": [
      "[array([1, 2]), array([3, 4]), array([5, 6])]\n"
     ]
    }
   ],
   "source": [
    "arr=np.array( [1,2,3,4,5,6])\n",
    "splitarr=np.array_split(arr,3)\n",
    "\n",
    "print(splitarr)"
   ]
  },
  {
   "cell_type": "markdown",
   "id": "3d468d0c-df01-4068-8562-6f5c36aabe3a",
   "metadata": {},
   "source": [
    "Ravel and Flatten : "
   ]
  },
  {
   "cell_type": "code",
   "execution_count": 71,
   "id": "dd692ce6-445f-4331-a26d-832c3926d00d",
   "metadata": {},
   "outputs": [
    {
     "name": "stdout",
     "output_type": "stream",
     "text": [
      "Dimension : 3\n",
      "New Dimension : 1\n",
      "[ 1  2  3  4  5  6  7  8 11 12 13 14 15 16 17 18]\n"
     ]
    }
   ],
   "source": [
    "arr= np.array([[[ 1 ,2],[ 3, 4],[ 5, 6],[ 7, 8]],[[11, 12],[13 ,14],[15 ,16],[17, 18]]])\n",
    "\n",
    "print(f\"Dimension : {arr.ndim}\")\n",
    "\n",
    "n= arr.ravel() #converts mulit dimensional array into single 1D array\n",
    "\n",
    "print(f\"New Dimension : {n.ndim}\")\n",
    "print(n)"
   ]
  },
  {
   "cell_type": "code",
   "execution_count": 73,
   "id": "f45d8657-5e60-442b-b73f-ceb34a870662",
   "metadata": {},
   "outputs": [
    {
     "name": "stdout",
     "output_type": "stream",
     "text": [
      "Dimension : 3\n",
      "New Dimension : 1\n",
      "[ 1  2  3  4  5  6  7  8 11 12 13 14 15 16 17 18]\n"
     ]
    }
   ],
   "source": [
    "arr= np.array([[[ 1 ,2],[ 3, 4],[ 5, 6],[ 7, 8]],[[11, 12],[13 ,14],[15 ,16],[17, 18]]])\n",
    "\n",
    "print(f\"Dimension : {arr.ndim}\")\n",
    "\n",
    "n= arr.flatten() #converts mulit dimensional array into single 1D array\n",
    "\n",
    "print(f\"New Dimension : {n.ndim}\")\n",
    "print(n)"
   ]
  },
  {
   "cell_type": "code",
   "execution_count": 86,
   "id": "1ffffaa5-7828-47e6-97e9-b396120abe23",
   "metadata": {},
   "outputs": [
    {
     "name": "stdout",
     "output_type": "stream",
     "text": [
      "\n",
      "Element : 0, Index : 12, Counts : 1\n",
      "\n",
      "Element : 1, Index : 0, Counts : 2\n",
      "\n",
      "Element : 2, Index : 1, Counts : 2\n",
      "\n",
      "Element : 3, Index : 2, Counts : 3\n",
      "\n",
      "Element : 4, Index : 3, Counts : 3\n",
      "\n",
      "Element : 5, Index : 4, Counts : 1\n",
      "\n",
      "Element : 6, Index : 8, Counts : 3\n",
      "\n",
      "Element : 7, Index : 9, Counts : 1\n",
      "\n",
      "Element : 8, Index : 10, Counts : 2\n",
      "\n",
      "Element : 9, Index : 11, Counts : 2\n"
     ]
    }
   ],
   "source": [
    "arr=np.array([1,2,3,4,5,2,3,4,6,7,8,9,0,8,3,6,1,9,6,4])\n",
    "uniarr,iarr,countarr=np.unique(arr,return_index=True,return_counts=True)\n",
    "for i in range(len(uniarr)):\n",
    "    print(f\"\\nElement : {uniarr[i]}, Index : {iarr[i]}, Counts : {countarr[i]}\");\n"
   ]
  },
  {
   "cell_type": "markdown",
   "id": "2d969c33-40bd-4498-985c-bba060a681d6",
   "metadata": {},
   "source": [
    "Deleting Elements : "
   ]
  },
  {
   "cell_type": "code",
   "execution_count": 95,
   "id": "e18b6e0b-4d69-4336-a840-ead7592c8909",
   "metadata": {},
   "outputs": [
    {
     "name": "stdout",
     "output_type": "stream",
     "text": [
      "[ 0  1  2  3  4 11 12 13 14 15 16 17 18]\n"
     ]
    }
   ],
   "source": [
    "arr=np.array([0,1,2,3,4,5,6,7,8,11,12,13,14,15,16,17,18])\n",
    "d=np.delete(arr,[5,6,7,8]) #[5,6,7,8] indexes of elements to be deleted\n",
    "print(d)"
   ]
  },
  {
   "cell_type": "code",
   "execution_count": 103,
   "id": "8d385d1f-5057-47eb-862f-5fe5219a4f1d",
   "metadata": {},
   "outputs": [
    {
     "name": "stdout",
     "output_type": "stream",
     "text": [
      "Axis 0 : [[1 2 3]]\n",
      "Axis 1 : \n",
      "[[2 3]\n",
      " [5 6]]\n"
     ]
    }
   ],
   "source": [
    "#multidimentional arrays---\n",
    "arr=np.array([[1,2,3],[4,5,6]])\n",
    "d=np.delete(arr,[1],axis=0)\n",
    "print(f\"Axis 0 : {d}\")\n",
    "d=np.delete(arr,[0],axis=1)\n",
    "print(f\"Axis 1 : \\n{d}\")"
   ]
  }
 ],
 "metadata": {
  "kernelspec": {
   "display_name": "anaconda-panel-2023.05-py310",
   "language": "python",
   "name": "conda-env-anaconda-panel-2023.05-py310-py"
  },
  "language_info": {
   "codemirror_mode": {
    "name": "ipython",
    "version": 3
   },
   "file_extension": ".py",
   "mimetype": "text/x-python",
   "name": "python",
   "nbconvert_exporter": "python",
   "pygments_lexer": "ipython3",
   "version": "3.11.5"
  }
 },
 "nbformat": 4,
 "nbformat_minor": 5
}
